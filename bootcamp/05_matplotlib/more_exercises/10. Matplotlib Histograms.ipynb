{
 "cells": [
  {
   "cell_type": "markdown",
   "metadata": {},
   "source": [
    "## Histogram\n",
    "\n",
    "A histogram is a graph showing frequency distributions.\n",
    "\n",
    "It is a graph showing the number of observations within each given interval."
   ]
  },
  {
   "cell_type": "markdown",
   "metadata": {},
   "source": [
    "## Create Histogram\n",
    "\n",
    "In Matplotlib, we use the hist() function to create histograms.\n",
    "\n",
    "The hist() function will use an array of numbers to create a histogram, the array is sent into the function as an argument.\n",
    "\n",
    "For simplicity we use NumPy to randomly generate an array with 250 values, where the values will concentrate around 170, and the standard deviation is 10. Learn more about Normal Data Distribution in our Machine Learning Tutorial."
   ]
  },
  {
   "cell_type": "markdown",
   "metadata": {},
   "source": [
    "Example\n",
    "\n",
    "A Normal Data Distribution by NumPy:"
   ]
  },
  {
   "cell_type": "code",
   "execution_count": 1,
   "metadata": {},
   "outputs": [
    {
     "name": "stdout",
     "output_type": "stream",
     "text": [
      "[139.77103028 183.55692382 164.47193577 175.06939812 166.00076482\n",
      " 163.1179324  182.64419235 186.89914502 169.62372675 156.10778139\n",
      " 152.26379595 177.03889283 153.29518739 169.01952277 171.94942021\n",
      " 154.45234076 166.79421221 161.57233343 178.5578718  179.10442485\n",
      " 165.31169977 168.61651894 180.01496141 144.94234242 153.73050411\n",
      " 178.75807359 177.23265528 162.32634349 149.32528663 167.54459375\n",
      " 170.18032192 167.34334584 170.03129901 160.48306387 163.4242654\n",
      " 174.77650922 165.65699196 166.58979879 157.97363603 192.03122038\n",
      " 163.77673443 187.44902928 162.20200906 171.54632344 166.23202852\n",
      " 177.40069844 165.25782786 160.76751657 177.77475096 151.39167956\n",
      " 162.42581437 177.90568007 164.49845541 187.84762753 164.57882395\n",
      " 191.35123257 163.98338518 180.62842861 174.0183355  181.28279924\n",
      " 168.82190399 170.15438337 174.48521625 158.75159154 170.94624446\n",
      " 168.00378017 172.97375847 167.06632918 170.76418417 184.4889404\n",
      " 165.83060593 160.068873   165.01665262 167.59842237 171.48377487\n",
      " 157.2885504  177.22080248 169.44700974 162.16451974 159.35791541\n",
      " 175.71789006 169.72645908 150.36982746 175.12540378 169.64089616\n",
      " 179.56747657 161.05854902 163.64511432 181.27731745 186.94562725\n",
      " 178.88780068 157.46108928 169.5025698  159.19405269 169.46819738\n",
      " 171.03257081 179.3490444  177.50283676 166.42012915 173.78226043\n",
      " 166.60918141 171.64457623 160.78930013 171.50634285 159.07598344\n",
      " 182.36871213 166.76160521 172.48455118 159.39049918 154.69239739\n",
      " 175.21663238 168.53120311 168.58956857 179.95156096 151.06459193\n",
      " 182.262346   168.44319379 182.14927355 162.44988171 152.82709931\n",
      " 159.53725336 182.27891039 156.57162504 181.61166434 158.52459242\n",
      " 178.4616111  180.46359865 173.77220575 165.06270631 161.59427943\n",
      " 158.92548039 174.35304641 165.60138932 153.84552486 173.90794291\n",
      " 187.54578586 169.95145289 196.95947122 168.73386776 183.20893736\n",
      " 154.42058898 171.42278883 179.74997242 174.61360359 172.02182102\n",
      " 160.63815648 154.5064532  176.17251975 164.56352859 168.1229082\n",
      " 162.59486281 167.88878559 171.33707389 159.08571032 154.54744565\n",
      " 196.34904508 186.50627617 152.75748297 176.38539484 164.99805953\n",
      " 168.64039436 167.43355782 171.94968704 167.2016257  165.20401015\n",
      " 173.39769549 195.3538763  153.01161575 163.83069902 169.03484012\n",
      " 168.45586531 175.81719369 167.79872488 157.02108941 172.19012539\n",
      " 161.36495815 168.02351102 177.49044415 185.76997195 181.13279372\n",
      " 163.88635658 156.13191394 157.28465676 179.52834211 169.76458769\n",
      " 167.42540473 169.82033191 162.10808475 159.26169586 169.95504403\n",
      " 148.21215059 173.16829006 164.01183584 174.32805744 159.20112497\n",
      " 161.513313   175.85429763 166.03755744 154.6197949  158.74614261\n",
      " 164.18590737 178.96004628 167.09894956 179.45689483 177.70803339\n",
      " 147.79949139 169.42347597 167.36229292 164.86596754 176.17849704\n",
      " 178.74013162 151.45595374 168.96826626 180.55577801 184.8288059\n",
      " 166.05503892 177.99815743 180.19858264 180.12352482 178.58694906\n",
      " 159.20987716 179.11152503 155.47558454 166.44138078 194.28949423\n",
      " 161.0248929  168.11633203 172.44598205 162.36614157 165.12722758\n",
      " 164.59445448 184.82849853 168.21099138 176.24775907 174.8044313\n",
      " 170.81466878 158.0227613  173.819592   164.66013672 191.8360234\n",
      " 170.93482708 166.61404484 161.790111   165.91657283 166.77266298\n",
      " 171.77973411 159.99685112 170.44390009 152.53042838 179.76914558]\n"
     ]
    }
   ],
   "source": [
    "import numpy as np\n",
    "\n",
    "x = np.random.normal(170, 10, 250)\n",
    "\n",
    "print(x)"
   ]
  },
  {
   "cell_type": "markdown",
   "metadata": {},
   "source": [
    "The hist() function will read the array and produce a histogram:"
   ]
  },
  {
   "cell_type": "markdown",
   "metadata": {},
   "source": [
    "Example\n",
    "\n",
    "A simple pie chart:"
   ]
  },
  {
   "cell_type": "code",
   "execution_count": 2,
   "metadata": {},
   "outputs": [
    {
     "data": {
      "image/png": "[encoded data removed]",
      "text/plain": [
       "<Figure size 432x288 with 1 Axes>"
      ]
     },
     "metadata": {
      "needs_background": "light"
     },
     "output_type": "display_data"
    }
   ],
   "source": [
    "import matplotlib.pyplot as plt\n",
    "import numpy as np\n",
    "\n",
    "x = np.random.normal(170, 10, 250)\n",
    "\n",
    "plt.hist(x)\n",
    "plt.show() "
   ]
  }
 ],
 "metadata": {
  "kernelspec": {
   "display_name": "Python 3",
   "language": "python",
   "name": "python3"
  },
  "language_info": {
   "codemirror_mode": {
    "name": "ipython",
    "version": 3
   },
   "file_extension": ".py",
   "mimetype": "text/x-python",
   "name": "python",
   "nbconvert_exporter": "python",
   "pygments_lexer": "ipython3",
   "version": "3.8.3"
  }
 },
 "nbformat": 4,
 "nbformat_minor": 4
}
