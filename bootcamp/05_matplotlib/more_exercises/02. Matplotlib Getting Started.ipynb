{
 "cells": [
  {
   "cell_type": "markdown",
   "metadata": {},
   "source": [
    "## Installation of Matplotlib\n",
    "\n",
    "If you have Python and PIP already installed on a system, then installation of Matplotlib is very easy.\n",
    "\n",
    "Install it using this command: \n",
    "\n",
    "#### C:\\Users\\Your Name>pip install matplotlib\n",
    "\n",
    "If this command fails, then use a python distribution that already has Matplotlib installed,  like Anaconda, Spyder etc."
   ]
  },
  {
   "cell_type": "markdown",
   "metadata": {},
   "source": [
    "## Import Matplotlib\n",
    "\n",
    "Once Matplotlib is installed, import it in your applications by adding the import module statement:"
   ]
  },
  {
   "cell_type": "code",
   "execution_count": 1,
   "metadata": {},
   "outputs": [],
   "source": [
    "import matplotlib"
   ]
  },
  {
   "cell_type": "markdown",
   "metadata": {},
   "source": [
    "Now Matplotlib is imported and ready to use:"
   ]
  },
  {
   "cell_type": "markdown",
   "metadata": {},
   "source": [
    "## Checking Matplotlib Version\n",
    "\n",
    "The version string is stored under __version__ attribute."
   ]
  },
  {
   "cell_type": "markdown",
   "metadata": {},
   "source": [
    "Example"
   ]
  },
  {
   "cell_type": "code",
   "execution_count": 2,
   "metadata": {},
   "outputs": [
    {
     "name": "stdout",
     "output_type": "stream",
     "text": [
      "3.2.2\n"
     ]
    }
   ],
   "source": [
    "import matplotlib\n",
    "\n",
    "print(matplotlib.__version__)"
   ]
  },
  {
   "cell_type": "markdown",
   "metadata": {},
   "source": [
    "#### Note: two underscore characters are used in __version__."
   ]
  }
 ],
 "metadata": {
  "kernelspec": {
   "display_name": "Python 3",
   "language": "python",
   "name": "python3"
  },
  "language_info": {
   "codemirror_mode": {
    "name": "ipython",
    "version": 3
   },
   "file_extension": ".py",
   "mimetype": "text/x-python",
   "name": "python",
   "nbconvert_exporter": "python",
   "pygments_lexer": "ipython3",
   "version": "3.8.3"
  }
 },
 "nbformat": 4,
 "nbformat_minor": 4
}
